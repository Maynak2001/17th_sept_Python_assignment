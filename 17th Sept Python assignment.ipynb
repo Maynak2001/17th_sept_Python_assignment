{
 "cells": [
  {
   "cell_type": "code",
   "execution_count": 1,
   "id": "65659357-3d9e-438c-ab64-ff917fb57ee5",
   "metadata": {},
   "outputs": [
    {
     "name": "stdout",
     "output_type": "stream",
     "text": [
      "1\n",
      "2\n",
      "3\n",
      "4\n",
      "5\n",
      "6\n",
      "7\n",
      "8\n",
      "9\n",
      "10\n"
     ]
    }
   ],
   "source": [
    "# Using a for loop to iterate over a range of numbers\n",
    "# The range function generates a sequence of numbers from the start (1) to the end (11 exclusive) with a step of 1.\n",
    "# In this case, it generates the sequence [1, 2, 3, 4, 5, 6, 7, 8, 9, 10].\n",
    "for i in range(1, 11):\n",
    "    # Inside the loop, the current value of 'i' is printed to the console.\n",
    "    print(i)\n"
   ]
  },
  {
   "cell_type": "code",
   "execution_count": 3,
   "id": "bdb9cac3-1787-4862-98d7-5ae7777fc775",
   "metadata": {},
   "outputs": [
    {
     "name": "stdout",
     "output_type": "stream",
     "text": [
      "0\n",
      "1\n",
      "2\n",
      "3\n",
      "4\n",
      "0\n",
      "1\n",
      "2\n",
      "3\n",
      "4\n"
     ]
    }
   ],
   "source": [
    "# Example using a for loop\n",
    "for i in range(5):\n",
    "    print(i)\n",
    "\n",
    "# Example using a while loop\n",
    "j = 0\n",
    "while j < 5:\n",
    "    print(j)\n",
    "    j += 1"
   ]
  },
  {
   "cell_type": "code",
   "execution_count": 4,
   "id": "214df8cb-d626-47ee-be83-fb5b313e2b25",
   "metadata": {},
   "outputs": [
    {
     "name": "stdout",
     "output_type": "stream",
     "text": [
      "Sum of numbers from 1 to 100: 5050\n"
     ]
    }
   ],
   "source": [
    "# Initialize a variable to store the sum\n",
    "total_sum = 0\n",
    "\n",
    "# Using a for loop to iterate over the range of numbers from 1 to 101 (exclusive)\n",
    "for i in range(1, 101):\n",
    "    # Add the current value of 'i' to the total sum\n",
    "    total_sum += i\n",
    "\n",
    "# Print the result\n",
    "print(\"Sum of numbers from 1 to 100:\", total_sum)\n"
   ]
  },
  {
   "cell_type": "code",
   "execution_count": 5,
   "id": "33c363fd-5617-406f-93bd-a4170ff0b1be",
   "metadata": {},
   "outputs": [
    {
     "name": "stdout",
     "output_type": "stream",
     "text": [
      "1\n",
      "2\n",
      "3\n",
      "4\n",
      "5\n"
     ]
    }
   ],
   "source": [
    "my_list = [1, 2, 3, 4, 5]\n",
    "\n",
    "for element in my_list:\n",
    "    # Code block to be repeated for each element in the list\n",
    "    print(element)\n"
   ]
  },
  {
   "cell_type": "code",
   "execution_count": 6,
   "id": "bb74b6d4-73f3-4b89-8697-0282b7bc445a",
   "metadata": {},
   "outputs": [
    {
     "name": "stdout",
     "output_type": "stream",
     "text": [
      "Product of all elements in the list: 120\n"
     ]
    }
   ],
   "source": [
    "# Example list\n",
    "my_list = [2, 3, 4, 5]\n",
    "\n",
    "# Initialize a variable to store the product\n",
    "product = 1\n",
    "\n",
    "# Using a for loop to iterate over the elements in the list\n",
    "for element in my_list:\n",
    "    # Multiply the current element with the running product\n",
    "    product *= element\n",
    "\n",
    "# Print the result\n",
    "print(\"Product of all elements in the list:\", product)\n"
   ]
  },
  {
   "cell_type": "code",
   "execution_count": 7,
   "id": "ea77715e-742b-4109-ac3f-60aa349c23f8",
   "metadata": {},
   "outputs": [
    {
     "name": "stdout",
     "output_type": "stream",
     "text": [
      "2\n",
      "4\n",
      "6\n",
      "8\n",
      "10\n",
      "12\n",
      "14\n",
      "16\n",
      "18\n",
      "20\n"
     ]
    }
   ],
   "source": [
    "# Using a for loop to iterate over the range of numbers from 1 to 21 (exclusive) with a step of 2\n",
    "for i in range(2, 21, 2):\n",
    "    # Print the current even number\n",
    "    print(i)\n"
   ]
  },
  {
   "cell_type": "code",
   "execution_count": 8,
   "id": "936ae02c-2925-4898-ad7e-1da1bc05cd39",
   "metadata": {},
   "outputs": [
    {
     "name": "stdin",
     "output_type": "stream",
     "text": [
      "Enter a number to calculate its factorial:  24\n"
     ]
    },
    {
     "name": "stdout",
     "output_type": "stream",
     "text": [
      "The factorial of 24 is: 620448401733239439360000\n"
     ]
    }
   ],
   "source": [
    "# Function to calculate the factorial of a number\n",
    "def calculate_factorial(number):\n",
    "    # Initialize the factorial to 1\n",
    "    factorial = 1\n",
    "\n",
    "    # Using a for loop to multiply numbers from 1 to the given number\n",
    "    for i in range(1, number + 1):\n",
    "        factorial *= i\n",
    "\n",
    "    return factorial\n",
    "\n",
    "# Input: Get the number from the user\n",
    "num = int(input(\"Enter a number to calculate its factorial: \"))\n",
    "\n",
    "# Check if the number is non-negative\n",
    "if num < 0:\n",
    "    print(\"Factorial is undefined for negative numbers.\")\n",
    "else:\n",
    "    # Call the function and print the result\n",
    "    result = calculate_factorial(num)\n",
    "    print(f\"The factorial of {num} is: {result}\")\n"
   ]
  },
  {
   "cell_type": "code",
   "execution_count": 9,
   "id": "7820bfb7-fdaa-4e34-8859-7e9b26e5bd1b",
   "metadata": {},
   "outputs": [
    {
     "name": "stdout",
     "output_type": "stream",
     "text": [
      "P\n",
      "W\n",
      " \n",
      "S\n",
      "K\n",
      "I\n",
      "L\n",
      "L\n",
      "S\n",
      "!\n"
     ]
    }
   ],
   "source": [
    "my_string = \"PW SKILLS!\"\n",
    "\n",
    "# Using a for loop to iterate through the characters of the string\n",
    "for char in my_string:\n",
    "    # Code block to be repeated for each character in the string\n",
    "    print(char)\n"
   ]
  },
  {
   "cell_type": "code",
   "execution_count": 10,
   "id": "cb008b64-21ce-4b3a-8ce4-120a38cc06c2",
   "metadata": {},
   "outputs": [
    {
     "name": "stdout",
     "output_type": "stream",
     "text": [
      "The largest number in the list is: 30\n"
     ]
    }
   ],
   "source": [
    "# Function to find the largest number in a list\n",
    "def find_largest_number(numbers):\n",
    "    # Check if the list is not empty\n",
    "    if not numbers:\n",
    "        return None  # Return None for an empty list\n",
    "    \n",
    "    # Initialize the maximum value to the first element of the list\n",
    "    max_number = numbers[0]\n",
    "\n",
    "    # Using a for loop to iterate over the elements in the list\n",
    "    for num in numbers:\n",
    "        # Update the maximum value if the current element is greater\n",
    "        if num > max_number:\n",
    "            max_number = num\n",
    "\n",
    "    return max_number\n",
    "\n",
    "# Example list\n",
    "my_list = [10, 5, 23, 17, 8, 30, 12]\n",
    "\n",
    "# Call the function and print the result\n",
    "result = find_largest_number(my_list)\n",
    "\n",
    "if result is not None:\n",
    "    print(\"The largest number in the list is:\", result)\n",
    "else:\n",
    "    print(\"The list is empty.\")\n"
   ]
  },
  {
   "cell_type": "code",
   "execution_count": 11,
   "id": "d1a0788a-8918-4833-8103-d9a56a25f54a",
   "metadata": {},
   "outputs": [
    {
     "name": "stdin",
     "output_type": "stream",
     "text": [
      "Enter the limit for the Fibonacci sequence:  1\n"
     ]
    },
    {
     "name": "stdout",
     "output_type": "stream",
     "text": [
      "Fibonacci sequence up to 1 : [0, 1]\n"
     ]
    }
   ],
   "source": [
    "# Function to generate Fibonacci sequence up to a specified limit\n",
    "def fibonacci_sequence(limit):\n",
    "    # Initialize the sequence with the first two Fibonacci numbers\n",
    "    fib_sequence = [0, 1]\n",
    "\n",
    "    # Using a for loop to generate the sequence up to the specified limit\n",
    "    for i in range(2, limit):\n",
    "        # Calculate the next Fibonacci number by adding the last two numbers\n",
    "        next_fib = fib_sequence[-1] + fib_sequence[-2]\n",
    "        \n",
    "        # Break the loop if the next Fibonacci number exceeds the limit\n",
    "        if next_fib > limit:\n",
    "            break\n",
    "        \n",
    "        # Append the next Fibonacci number to the sequence\n",
    "        fib_sequence.append(next_fib)\n",
    "\n",
    "    return fib_sequence\n",
    "\n",
    "# Get the limit from the user\n",
    "limit = int(input(\"Enter the limit for the Fibonacci sequence: \"))\n",
    "\n",
    "# Call the function and print the result\n",
    "result_sequence = fibonacci_sequence(limit)\n",
    "print(\"Fibonacci sequence up to\", limit, \":\", result_sequence)\n"
   ]
  },
  {
   "cell_type": "code",
   "execution_count": 12,
   "id": "5689d6b4-4f55-4146-97d3-896b84d0c53a",
   "metadata": {},
   "outputs": [
    {
     "name": "stdin",
     "output_type": "stream",
     "text": [
      "Enter a string:  Pw Skills\n"
     ]
    },
    {
     "name": "stdout",
     "output_type": "stream",
     "text": [
      "Number of vowels in the given string: 1\n"
     ]
    }
   ],
   "source": [
    "# Function to count the number of vowels in a string\n",
    "def count_vowels(input_string):\n",
    "    # Initialize a variable to store the count\n",
    "    vowel_count = 0\n",
    "\n",
    "    # Define the set of vowels\n",
    "    vowels = \"aeiouAEIOU\"\n",
    "\n",
    "    # Using a for loop to iterate through each character in the string\n",
    "    for char in input_string:\n",
    "        # Check if the character is a vowel\n",
    "        if char in vowels:\n",
    "            vowel_count += 1\n",
    "\n",
    "    return vowel_count\n",
    "\n",
    "# Get the input string from the user\n",
    "user_input = input(\"Enter a string: \")\n",
    "\n",
    "# Call the function and print the result\n",
    "result = count_vowels(user_input)\n",
    "print(\"Number of vowels in the given string:\", result)\n"
   ]
  },
  {
   "cell_type": "code",
   "execution_count": 13,
   "id": "10349192-f474-439a-93ba-55afbf8c2efe",
   "metadata": {},
   "outputs": [
    {
     "name": "stdin",
     "output_type": "stream",
     "text": [
      "Enter the number for the multiplication table:  12\n",
      "Enter the limit for the multiplication table:  35\n"
     ]
    },
    {
     "name": "stdout",
     "output_type": "stream",
     "text": [
      "12 x 1 = 12\n",
      "12 x 2 = 24\n",
      "12 x 3 = 36\n",
      "12 x 4 = 48\n",
      "12 x 5 = 60\n",
      "12 x 6 = 72\n",
      "12 x 7 = 84\n",
      "12 x 8 = 96\n",
      "12 x 9 = 108\n",
      "12 x 10 = 120\n",
      "12 x 11 = 132\n",
      "12 x 12 = 144\n",
      "12 x 13 = 156\n",
      "12 x 14 = 168\n",
      "12 x 15 = 180\n",
      "12 x 16 = 192\n",
      "12 x 17 = 204\n",
      "12 x 18 = 216\n",
      "12 x 19 = 228\n",
      "12 x 20 = 240\n",
      "12 x 21 = 252\n",
      "12 x 22 = 264\n",
      "12 x 23 = 276\n",
      "12 x 24 = 288\n",
      "12 x 25 = 300\n",
      "12 x 26 = 312\n",
      "12 x 27 = 324\n",
      "12 x 28 = 336\n",
      "12 x 29 = 348\n",
      "12 x 30 = 360\n",
      "12 x 31 = 372\n",
      "12 x 32 = 384\n",
      "12 x 33 = 396\n",
      "12 x 34 = 408\n",
      "12 x 35 = 420\n"
     ]
    }
   ],
   "source": [
    "# Function to generate a multiplication table for a given number\n",
    "def multiplication_table(number, limit):\n",
    "    # Using a for loop to generate the multiplication table up to the specified limit\n",
    "    for i in range(1, limit + 1):\n",
    "        result = number * i\n",
    "        print(f\"{number} x {i} = {result}\")\n",
    "\n",
    "# Get the number from the user\n",
    "num = int(input(\"Enter the number for the multiplication table: \"))\n",
    "\n",
    "# Get the limit from the user\n",
    "table_limit = int(input(\"Enter the limit for the multiplication table: \"))\n",
    "\n",
    "# Call the function to generate and print the multiplication table\n",
    "multiplication_table(num, table_limit)\n"
   ]
  },
  {
   "cell_type": "code",
   "execution_count": 14,
   "id": "9b32d4bd-c0e7-4a6f-8b47-f5d77ddfa961",
   "metadata": {},
   "outputs": [
    {
     "name": "stdout",
     "output_type": "stream",
     "text": [
      "Original list: [1, 2, 3, 4, 5]\n",
      "Reversed list: [5, 4, 3, 2, 1]\n"
     ]
    }
   ],
   "source": [
    "# Function to reverse a list\n",
    "def reverse_list(original_list):\n",
    "    reversed_list = []\n",
    "    # Using a for loop to iterate through the original list in reverse order\n",
    "    for item in reversed(original_list):\n",
    "        reversed_list.append(item)\n",
    "    return reversed_list\n",
    "\n",
    "# Example list\n",
    "my_list = [1, 2, 3, 4, 5]\n",
    "\n",
    "# Call the function to reverse the list\n",
    "reversed_result = reverse_list(my_list)\n",
    "\n",
    "# Print the original and reversed lists\n",
    "print(\"Original list:\", my_list)\n",
    "print(\"Reversed list:\", reversed_result)\n"
   ]
  },
  {
   "cell_type": "code",
   "execution_count": 15,
   "id": "549079e8-e0c7-4810-9b99-eef7d57e815f",
   "metadata": {},
   "outputs": [
    {
     "name": "stdout",
     "output_type": "stream",
     "text": [
      "List A: [1, 2, 3, 4, 5]\n",
      "List B: [3, 4, 5, 6, 7]\n",
      "Common elements: [3, 4, 5]\n"
     ]
    }
   ],
   "source": [
    "# Function to find common elements between two lists\n",
    "def find_common_elements(list1, list2):\n",
    "    common_elements = []\n",
    "    # Using a for loop to iterate through the elements of the first list\n",
    "    for item1 in list1:\n",
    "        # Check if the element is also present in the second list\n",
    "        if item1 in list2:\n",
    "            common_elements.append(item1)\n",
    "    return common_elements\n",
    "\n",
    "# Example lists\n",
    "list_a = [1, 2, 3, 4, 5]\n",
    "list_b = [3, 4, 5, 6, 7]\n",
    "\n",
    "# Call the function to find common elements\n",
    "common_elements_result = find_common_elements(list_a, list_b)\n",
    "\n",
    "# Print the original lists and the common elements\n",
    "print(\"List A:\", list_a)\n",
    "print(\"List B:\", list_b)\n",
    "print(\"Common elements:\", common_elements_result)\n"
   ]
  },
  {
   "cell_type": "code",
   "execution_count": 16,
   "id": "0518ce69-3466-456b-ab4b-a5b8da8bc75d",
   "metadata": {},
   "outputs": [
    {
     "name": "stdout",
     "output_type": "stream",
     "text": [
      "Key: a, Value: 1\n",
      "Key: b, Value: 2\n",
      "Key: c, Value: 3\n",
      "Key: d, Value: 4\n"
     ]
    }
   ],
   "source": [
    "# Example dictionary\n",
    "my_dict = {'a': 1, 'b': 2, 'c': 3, 'd': 4}\n",
    "\n",
    "# Iterating through keys and values using a for loop\n",
    "for key, value in my_dict.items():\n",
    "    print(f\"Key: {key}, Value: {value}\")\n"
   ]
  },
  {
   "cell_type": "code",
   "execution_count": 17,
   "id": "4fa0a6f9-da4a-4694-bf5d-2f481a9a8cd2",
   "metadata": {},
   "outputs": [
    {
     "name": "stdin",
     "output_type": "stream",
     "text": [
      "Enter the first number:  20\n",
      "Enter the second number:  40\n"
     ]
    },
    {
     "name": "stdout",
     "output_type": "stream",
     "text": [
      "The GCD of 20 and 40 is: 20\n"
     ]
    }
   ],
   "source": [
    "# Function to find the GCD of two numbers\n",
    "def find_gcd(num1, num2):\n",
    "    # Find the smaller of the two numbers\n",
    "    smaller = min(num1, num2)\n",
    "\n",
    "    # Initialize the GCD to 1 (since 1 is always a common divisor)\n",
    "    gcd = 1\n",
    "\n",
    "    # Using a for loop to check for common divisors\n",
    "    for i in range(1, smaller + 1):\n",
    "        # Check if both numbers are divisible by the current value of 'i'\n",
    "        if num1 % i == 0 and num2 % i == 0:\n",
    "            gcd = i  # Update the GCD if 'i' is a common divisor\n",
    "\n",
    "    return gcd\n",
    "\n",
    "# Get the input numbers from the user\n",
    "num1 = int(input(\"Enter the first number: \"))\n",
    "num2 = int(input(\"Enter the second number: \"))\n",
    "\n",
    "# Call the function and print the result\n",
    "result_gcd = find_gcd(num1, num2)\n",
    "print(f\"The GCD of {num1} and {num2} is: {result_gcd}\")\n"
   ]
  },
  {
   "cell_type": "code",
   "execution_count": 18,
   "id": "f16607fa-74a3-49a1-8da6-ca7bdb247167",
   "metadata": {},
   "outputs": [
    {
     "name": "stdin",
     "output_type": "stream",
     "text": [
      "Enter a string to check for palindrome:  Pwskills\n"
     ]
    },
    {
     "name": "stdout",
     "output_type": "stream",
     "text": [
      "Pwskills is not a palindrome.\n"
     ]
    }
   ],
   "source": [
    "# Function to check if a string is a palindrome\n",
    "def is_palindrome(input_string):\n",
    "    # Remove spaces and convert to lowercase for case-insensitive comparison\n",
    "    cleaned_string = input_string.replace(\" \", \"\").lower()\n",
    "\n",
    "    # Using a for loop to check palindrome property\n",
    "    for i in range(len(cleaned_string) // 2):\n",
    "        # Compare characters from the beginning and end of the string\n",
    "        if cleaned_string[i] != cleaned_string[len(cleaned_string) - 1 - i]:\n",
    "            return False\n",
    "\n",
    "    return True\n",
    "\n",
    "# Get the input string from the user\n",
    "user_input = input(\"Enter a string to check for palindrome: \")\n",
    "\n",
    "# Call the function and print the result\n",
    "result = is_palindrome(user_input)\n",
    "\n",
    "if result:\n",
    "    print(f\"{user_input} is a palindrome.\")\n",
    "else:\n",
    "    print(f\"{user_input} is not a palindrome.\")\n"
   ]
  },
  {
   "cell_type": "code",
   "execution_count": 19,
   "id": "67f1074a-8657-4064-ad0f-88c43786303a",
   "metadata": {},
   "outputs": [
    {
     "name": "stdout",
     "output_type": "stream",
     "text": [
      "Original list: [1, 2, 2, 3, 4, 4, 5, 6, 6]\n",
      "List without duplicates: [1, 2, 3, 4, 5, 6]\n"
     ]
    }
   ],
   "source": [
    "# Function to remove duplicates from a list\n",
    "def remove_duplicates(original_list):\n",
    "    unique_list = []\n",
    "    # Using a for loop to iterate through the original list\n",
    "    for item in original_list:\n",
    "        # Check if the item is not already in the unique_list\n",
    "        if item not in unique_list:\n",
    "            unique_list.append(item)\n",
    "    return unique_list\n",
    "\n",
    "# Example list with duplicates\n",
    "my_list = [1, 2, 2, 3, 4, 4, 5, 6, 6]\n",
    "\n",
    "# Call the function to remove duplicates\n",
    "result_without_duplicates = remove_duplicates(my_list)\n",
    "\n",
    "# Print the original and updated lists\n",
    "print(\"Original list:\", my_list)\n",
    "print(\"List without duplicates:\", result_without_duplicates)\n"
   ]
  },
  {
   "cell_type": "code",
   "execution_count": 21,
   "id": "aff37f63-e32d-465f-9a71-8d490e8a1ffb",
   "metadata": {},
   "outputs": [
    {
     "name": "stdin",
     "output_type": "stream",
     "text": [
      "Enter a sentence:  Pw skills\n"
     ]
    },
    {
     "name": "stdout",
     "output_type": "stream",
     "text": [
      "Number of words in the sentence: 3\n"
     ]
    }
   ],
   "source": [
    "# Function to count the number of words in a sentence\n",
    "def count_words(sentence):\n",
    "    word_count = 0\n",
    "\n",
    "    # Using a for loop to iterate through each character in the sentence\n",
    "    for char in sentence:\n",
    "        # Check if the character is a space or the last character in the sentence\n",
    "        if char == ' ' or char == sentence[-1]:\n",
    "            word_count += 1\n",
    "\n",
    "    return word_count\n",
    "\n",
    "# Get the input sentence from the user\n",
    "user_sentence = input(\"Enter a sentence: \")\n",
    "\n",
    "# Call the function and print the result\n",
    "result = count_words(user_sentence)\n",
    "print(\"Number of words in the sentence:\", result)\n"
   ]
  },
  {
   "cell_type": "code",
   "execution_count": 22,
   "id": "a3411464-11c4-49f0-acdc-e6801aaeddba",
   "metadata": {},
   "outputs": [
    {
     "name": "stdout",
     "output_type": "stream",
     "text": [
      "Sum of odd numbers from 1 to 50: 625\n"
     ]
    }
   ],
   "source": [
    "# Initialize a variable to store the sum\n",
    "sum_of_odds = 0\n",
    "\n",
    "# Using a for loop to iterate over the range of numbers from 1 to 51 (exclusive) with a step of 2\n",
    "for i in range(1, 51, 2):\n",
    "    # Add the current odd number to the sum\n",
    "    sum_of_odds += i\n",
    "\n",
    "# Print the result\n",
    "print(\"Sum of odd numbers from 1 to 50:\", sum_of_odds)\n"
   ]
  },
  {
   "cell_type": "code",
   "execution_count": 23,
   "id": "ae18dfb1-74f4-479e-ab24-bbf1213943ca",
   "metadata": {},
   "outputs": [
    {
     "name": "stdin",
     "output_type": "stream",
     "text": [
      "Enter a year to check if it's a leap year:  2012\n"
     ]
    },
    {
     "name": "stdout",
     "output_type": "stream",
     "text": [
      "2012 is a leap year.\n"
     ]
    }
   ],
   "source": [
    "# Function to check if a year is a leap year\n",
    "def is_leap_year(year):\n",
    "    # Using a for loop to iterate over a range of years (in this case, only one year)\n",
    "    for _ in range(1):  # A loop that runs only once for the given year\n",
    "        # Check leap year conditions\n",
    "        if (year % 4 == 0 and year % 100 != 0) or (year % 400 == 0):\n",
    "            return True\n",
    "        else:\n",
    "            return False\n",
    "\n",
    "# Get the input year from the user\n",
    "user_year = int(input(\"Enter a year to check if it's a leap year: \"))\n",
    "\n",
    "# Call the function and print the result\n",
    "result = is_leap_year(user_year)\n",
    "if result:\n",
    "    print(f\"{user_year} is a leap year.\")\n",
    "else:\n",
    "    print(f\"{user_year} is not a leap year.\")\n"
   ]
  },
  {
   "cell_type": "code",
   "execution_count": 24,
   "id": "273b91e0-96ad-4e67-93bd-fee2fac262ba",
   "metadata": {},
   "outputs": [
    {
     "name": "stdin",
     "output_type": "stream",
     "text": [
      "Enter a number to calculate its square root:  5\n"
     ]
    },
    {
     "name": "stdout",
     "output_type": "stream",
     "text": [
      "The square root of 5.0 is approximately: 2.23606797749979\n"
     ]
    }
   ],
   "source": [
    "# Function to calculate the square root using the Newton-Raphson method\n",
    "def square_root_approximation(number, iterations=10):\n",
    "    # Initial guess for the square root\n",
    "    guess = number / 2.0\n",
    "\n",
    "    # Using a for loop to iterate for a specified number of iterations\n",
    "    for _ in range(iterations):\n",
    "        # Update the guess using the Newton-Raphson formula\n",
    "        guess = 0.5 * (guess + number / guess)\n",
    "\n",
    "    return guess\n",
    "\n",
    "# Get the input number from the user\n",
    "user_number = float(input(\"Enter a number to calculate its square root: \"))\n",
    "\n",
    "# Call the function and print the result\n",
    "result = square_root_approximation(user_number)\n",
    "print(f\"The square root of {user_number} is approximately: {result}\")\n"
   ]
  },
  {
   "cell_type": "code",
   "execution_count": null,
   "id": "5f0691d9-2974-47cf-b7cd-97550944a48d",
   "metadata": {},
   "outputs": [],
   "source": []
  }
 ],
 "metadata": {
  "kernelspec": {
   "display_name": "Python 3 (ipykernel)",
   "language": "python",
   "name": "python3"
  },
  "language_info": {
   "codemirror_mode": {
    "name": "ipython",
    "version": 3
   },
   "file_extension": ".py",
   "mimetype": "text/x-python",
   "name": "python",
   "nbconvert_exporter": "python",
   "pygments_lexer": "ipython3",
   "version": "3.10.8"
  }
 },
 "nbformat": 4,
 "nbformat_minor": 5
}
